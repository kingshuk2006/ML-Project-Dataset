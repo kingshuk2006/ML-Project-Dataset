{
  "nbformat": 4,
  "nbformat_minor": 0,
  "metadata": {
    "colab": {
      "name": "ML-Project.ipynb",
      "provenance": []
    },
    "kernelspec": {
      "name": "python3",
      "display_name": "Python 3"
    },
    "language_info": {
      "name": "python"
    }
  },
  "cells": [
    {
      "cell_type": "markdown",
      "source": [
        "Import the dependencies"
      ],
      "metadata": {
        "id": "07cWyCM9Rp0N"
      }
    },
    {
      "cell_type": "code",
      "execution_count": 3,
      "metadata": {
        "id": "byCusuuURZ0A"
      },
      "outputs": [],
      "source": [
        "import numpy as np\n",
        "import pandas as pd\n",
        "from sklearn.preprocessing import StandardScaler\n",
        "from sklearn.model_selection import train_test_split\n",
        "from sklearn import svm\n",
        "from sklearn.linear_model import LogisticRegression\n",
        "from sklearn.metrics import accuracy_score"
      ]
    },
    {
      "cell_type": "markdown",
      "source": [
        "Data collection and processing"
      ],
      "metadata": {
        "id": "-BlrbFHdRhN_"
      }
    },
    {
      "cell_type": "code",
      "source": [
        "#loading the csv data to a Pandas DataFrame\n",
        "Cancer_data = pd.read_csv('/content/Cancer_data.csv')\n",
        "Cancer_data=Cancer_data.transpose()\n",
        "Cancer_data.columns = Cancer_data.iloc[0]\n",
        "Cancer_data = Cancer_data.iloc[1:].reset_index(drop=True)\n",
        "#plt.scatter(Cancer_data[:,57241],Cancer_data[:,57242],Cancer_data*15+5,Cancer_data*15+5)\n",
        "#tumor_data = tumor_data.iloc[:-2]\n",
        "#tumor_data = tumor_data.iloc[1: , :]\n",
        "#tumor_data.head()\n",
        "#Cancer_data.tail()"
      ],
      "metadata": {
        "id": "wU6FDZgeRmTf"
      },
      "execution_count": 4,
      "outputs": []
    },
    {
      "cell_type": "code",
      "source": [
        "Cancer_data.shape\n",
        "#tumor_data.info()"
      ],
      "metadata": {
        "colab": {
          "base_uri": "https://localhost:8080/"
        },
        "id": "9D0e2m3lUfBf",
        "outputId": "5a315fdf-f55f-4856-a134-99b49824ec4a"
      },
      "execution_count": 4,
      "outputs": [
        {
          "output_type": "execute_result",
          "data": {
            "text/plain": [
              "(272, 57242)"
            ]
          },
          "metadata": {},
          "execution_count": 4
        }
      ]
    },
    {
      "cell_type": "code",
      "source": [
        "Cancer_data.isnull().sum()"
      ],
      "metadata": {
        "id": "NO3uHwjb9ZQg"
      },
      "execution_count": null,
      "outputs": []
    },
    {
      "cell_type": "code",
      "source": [
        "#tumor_data.describe()"
      ],
      "metadata": {
        "id": "iBhJ8MJQ97cT"
      },
      "execution_count": 56,
      "outputs": []
    },
    {
      "cell_type": "code",
      "source": [
        "Cancer_data['Diagnosis'].value_counts()\n"
      ],
      "metadata": {
        "colab": {
          "base_uri": "https://localhost:8080/"
        },
        "id": "Xpy3h0iX_MpR",
        "outputId": "8d4a65b8-a7fd-49b0-ca72-12e7d58dc8bc"
      },
      "execution_count": 5,
      "outputs": [
        {
          "output_type": "execute_result",
          "data": {
            "text/plain": [
              "1.0    146\n",
              "0.0    126\n",
              "Name: Diagnosis, dtype: int64"
            ]
          },
          "metadata": {},
          "execution_count": 5
        }
      ]
    },
    {
      "cell_type": "code",
      "source": [
        "Cancer_data.groupby('Diagnosis').mean()"
      ],
      "metadata": {
        "id": "jzEZdyj8OQ5H"
      },
      "execution_count": null,
      "outputs": []
    },
    {
      "cell_type": "code",
      "source": [
        "x = Cancer_data.drop(columns='Diagnosis',axis=1)\n",
        "y = Cancer_data['Diagnosis']\n",
        "y=y.astype('int')"
      ],
      "metadata": {
        "id": "YFKVi3hINWV1"
      },
      "execution_count": 8,
      "outputs": []
    },
    {
      "cell_type": "code",
      "source": [
        "scaler = StandardScaler()"
      ],
      "metadata": {
        "id": "4Ww1dp8lKIml"
      },
      "execution_count": 6,
      "outputs": []
    },
    {
      "cell_type": "code",
      "source": [
        "scaler.fit(x)"
      ],
      "metadata": {
        "colab": {
          "base_uri": "https://localhost:8080/"
        },
        "id": "UVmbpJ84KQad",
        "outputId": "e0b999c7-1aed-4994-d25f-20852b054771"
      },
      "execution_count": 9,
      "outputs": [
        {
          "output_type": "execute_result",
          "data": {
            "text/plain": [
              "StandardScaler()"
            ]
          },
          "metadata": {},
          "execution_count": 9
        }
      ]
    },
    {
      "cell_type": "code",
      "source": [
        "standardized_data = scaler.transform(x)"
      ],
      "metadata": {
        "id": "Ix44aX52KZZT"
      },
      "execution_count": 10,
      "outputs": []
    },
    {
      "cell_type": "code",
      "source": [
        "print(standardized_data)"
      ],
      "metadata": {
        "colab": {
          "base_uri": "https://localhost:8080/"
        },
        "id": "0vCRg7EJKtAv",
        "outputId": "45e1f10b-a0b0-4756-a961-9767818990a3"
      },
      "execution_count": 11,
      "outputs": [
        {
          "output_type": "stream",
          "name": "stdout",
          "text": [
            "[[-0.24163686 -0.06074567 -0.18603615 ...  0.          0.\n",
            "  -0.10051518]\n",
            " [-0.24163686 -0.06074567 -0.18603615 ...  0.          0.\n",
            "  -0.10051518]\n",
            " [-0.24163686 -0.06074567 -0.18603615 ...  0.          0.\n",
            "  -0.10051518]\n",
            " ...\n",
            " [-0.22158836 -0.06074567  1.64441086 ...  0.          0.\n",
            "  -0.10051518]\n",
            " [-0.24163686 -0.06074567 -0.17259682 ...  0.          0.\n",
            "  -0.10051518]\n",
            " [-0.19778078 -0.06074567 -0.17528469 ...  0.          0.\n",
            "  -0.10051518]]\n"
          ]
        }
      ]
    },
    {
      "cell_type": "code",
      "source": [
        "x=standardized_data"
      ],
      "metadata": {
        "id": "kHvp-Es9LEIC"
      },
      "execution_count": null,
      "outputs": []
    },
    {
      "cell_type": "code",
      "source": [
        "x_train, x_test, y_train, y_test = train_test_split(x,y,test_size=0.2, stratify=y,random_state=5)"
      ],
      "metadata": {
        "id": "yQ7G-0gnUNR2"
      },
      "execution_count": 12,
      "outputs": []
    },
    {
      "cell_type": "code",
      "source": [
        "print(x.shape,x_train.shape,x_test.shape)"
      ],
      "metadata": {
        "colab": {
          "base_uri": "https://localhost:8080/"
        },
        "id": "xCtZuI8yVXhx",
        "outputId": "65495dd6-8442-4b81-c6cf-d9cbcf44fb0e"
      },
      "execution_count": 13,
      "outputs": [
        {
          "output_type": "stream",
          "name": "stdout",
          "text": [
            "(272, 57241) (217, 57241) (55, 57241)\n"
          ]
        }
      ]
    },
    {
      "cell_type": "code",
      "source": [
        "print(y.shape,y_train.shape,y_test.shape)"
      ],
      "metadata": {
        "colab": {
          "base_uri": "https://localhost:8080/"
        },
        "id": "CQdxkMY5XORs",
        "outputId": "d7272dc2-08ac-4087-d75d-3f547fb44d92"
      },
      "execution_count": 14,
      "outputs": [
        {
          "output_type": "stream",
          "name": "stdout",
          "text": [
            "(272,) (217,) (55,)\n"
          ]
        }
      ]
    },
    {
      "cell_type": "code",
      "source": [
        "Reg_model = LogisticRegression()\n"
      ],
      "metadata": {
        "id": "2IiHs3O4WNwI"
      },
      "execution_count": 15,
      "outputs": []
    },
    {
      "cell_type": "code",
      "source": [
        "svm_model = svm.SVC(kernel='linear')"
      ],
      "metadata": {
        "id": "cWgAI_j9L8MY"
      },
      "execution_count": 17,
      "outputs": []
    },
    {
      "cell_type": "code",
      "source": [
        "Reg_model.fit(x_train,y_train)"
      ],
      "metadata": {
        "id": "SuS9YX52WnNp"
      },
      "execution_count": null,
      "outputs": []
    },
    {
      "cell_type": "code",
      "source": [
        "svm_model.fit(x_train,y_train)"
      ],
      "metadata": {
        "id": "rIndozsDMsdn"
      },
      "execution_count": null,
      "outputs": []
    },
    {
      "cell_type": "code",
      "source": [
        "x_train_prediction = Reg_model.predict(x_train)\n",
        "training_data_accuracy = accuracy_score(x_train_prediction,y_train)\n",
        "print('Accuracy on Training Data :',training_data_accuracy)"
      ],
      "metadata": {
        "colab": {
          "base_uri": "https://localhost:8080/"
        },
        "id": "gYzgq7JvZtOG",
        "outputId": "71a8185b-0877-442f-b8a0-fd4296f04d4d"
      },
      "execution_count": 20,
      "outputs": [
        {
          "output_type": "stream",
          "name": "stdout",
          "text": [
            "Accuracy on Training Data : 1.0\n"
          ]
        }
      ]
    },
    {
      "cell_type": "code",
      "source": [
        "x_train_prediction = svm_model.predict(x_train)\n",
        "training_data_accuracy = accuracy_score(x_train_prediction,y_train)\n",
        "print('Accuracy on Training Data :',training_data_accuracy)"
      ],
      "metadata": {
        "colab": {
          "base_uri": "https://localhost:8080/"
        },
        "id": "CA5eHF5EM-0w",
        "outputId": "311f2f19-8a3d-41bf-c855-ce89e85cc436"
      },
      "execution_count": 21,
      "outputs": [
        {
          "output_type": "stream",
          "name": "stdout",
          "text": [
            "Accuracy on Training Data : 1.0\n"
          ]
        }
      ]
    },
    {
      "cell_type": "code",
      "source": [
        "x_test_prediction = Reg_model.predict(x_test)\n",
        "test_data_accuracy = accuracy_score(x_test_prediction,y_test)\n",
        "print('Accuracy on Test Data :',test_data_accuracy)"
      ],
      "metadata": {
        "colab": {
          "base_uri": "https://localhost:8080/"
        },
        "id": "AJ8zhpKdhKtG",
        "outputId": "93ca8ac5-c52b-476d-ea92-6d3309003082"
      },
      "execution_count": 22,
      "outputs": [
        {
          "output_type": "stream",
          "name": "stdout",
          "text": [
            "Accuracy on Test Data : 0.6363636363636364\n"
          ]
        }
      ]
    },
    {
      "cell_type": "code",
      "source": [
        "x_test_prediction = svm_model.predict(x_test)\n",
        "test_data_accuracy = accuracy_score(x_test_prediction,y_test)\n",
        "print('Accuracy on Test Data :',test_data_accuracy)"
      ],
      "metadata": {
        "colab": {
          "base_uri": "https://localhost:8080/"
        },
        "id": "2aadFc7NNWDG",
        "outputId": "fed80f95-a9b6-4ffa-db73-286b1574a0eb"
      },
      "execution_count": 23,
      "outputs": [
        {
          "output_type": "stream",
          "name": "stdout",
          "text": [
            "Accuracy on Test Data : 0.5272727272727272\n"
          ]
        }
      ]
    }
  ]
}